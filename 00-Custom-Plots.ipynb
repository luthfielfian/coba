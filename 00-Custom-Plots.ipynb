{
 "cells": [
  {
   "cell_type": "markdown",
   "metadata": {},
   "source": [
    "___\n",
    "\n",
    "<a href='http://www.pieriandata.com'> <img src='../Pierian_Data_Logo.png' /></a>\n",
    "\n",
    "<center><em>Copyright: Pierian Data Inc.</em></center>\n",
    "\n",
    "_____"
   ]
  },
  {
   "cell_type": "markdown",
   "metadata": {},
   "source": [
    "# Simple Plots\n",
    "\n",
    "**NOTE ABOUT PLOT LIMITS**:\n",
    "\n",
    "Intensive charting generates hundreds of megabytes (200MB) of data, which is far too much to stream online or display in a web browser. Because of this, QuantConnect will limit the number of points a chart can have to 4000. If you see the error Exceeded maximum points per chart, data skipped, then you have hit this limit and should reduce your sampling frequency.\n",
    "\n",
    "\n",
    "## Plotting Directly on Default \"Strategy Equity Chart\"\n",
    "\n",
    "You can of course also create custom plots in quantconnect by using **self.Plot(ChartName,SeriesName, values)**. <br />\n",
    "Let's visualize this by plotting the current stock price additionally to the value of our portfolio. Note, we typically won't do this, since the y-axis scale usually doesn't make sense for what you are plotting."
   ]
  },
  {
   "cell_type": "code",
   "execution_count": null,
   "metadata": {},
   "outputs": [],
   "source": [
    "class PlotStockPrice(QCAlgorithm):\n",
    "\n",
    "    def Initialize(self):\n",
    "        self.SetStartDate(2020, 1, 1)\n",
    "        self.SetCash(100000) \n",
    "        self.AddEquity(\"SPY\", Resolution.Daily)\n",
    "\n",
    "    def OnData(self, data):\n",
    "      \n",
    "        if not self.Portfolio.Invested:\n",
    "            self.SetHoldings(\"SPY\", 1)\n",
    "        \n",
    "        # Plot the opening SPY price on the \n",
    "        # You can access properties of a stock in your portfolio via self.Securities[Ticker]\n",
    "        # If no chartname is passed, the default chart is automatically chosen\n",
    "        self.Plot(\"SPY Price\", self.Securities[\"SPY\"].Open) "
   ]
  },
  {
   "cell_type": "markdown",
   "metadata": {},
   "source": [
    "## Creating New Chart for Plotting"
   ]
  },
  {
   "cell_type": "markdown",
   "metadata": {},
   "source": [
    "However due to the large scale difference between the two charts our plot does not look nice. <br />\n",
    "We can tackle this problem by adding a new chart and show the plot there.\n",
    "To do so we need to define a chart object **plot = Chart(chartname)** and define the plot(s) we want to add to this chart: **plot.AddSeries(Series(plotname, plottype, index))** <br />\n",
    "The supported plot types are:\n",
    "+ Line\n",
    "+ Scatter\n",
    "+ Candle\n",
    "+ Bar\n",
    "+ Flag\n",
    "\n",
    "The index describes how the different plots are aranged (if all are zero they are on top of each other; different indices lead to multiple plots next to each other)\n",
    "Both, chart definition and AddSeries are performed in the *Initialize* method:\n",
    "\n",
    "```python\n",
    "def Initialize(self):\n",
    "    self.SetStartDate(2020, 1, 1)\n",
    "    self.SetCash(100000) \n",
    "    self.AddEquity(\"SPY\", Resolution.Daily)\n",
    "\n",
    "    price_plot = Chart('Custom Chart')  # Lets call our custom chart \"Custom Chart\"\n",
    "    price_plot.AddSeries(Series('Price', SeriesType.Line, 0))  # Add a line plot to our chart called \"Price\n",
    "    self.AddChart(price_plot)  # Add the Chart to your environment\n",
    "```\n",
    "Then, in *OnData*, we feed data to our created plot. \n",
    "\n",
    "```python\n",
    "def OnData(self, data):\n",
    "    if not self.Portfolio.Invested:\n",
    "       self.SetHoldings(\"SPY\", 1)\n",
    "    \n",
    "    # Pass chartname and seriesname to the plot function paired with the desired data, the opening price\n",
    "    self.Plot(\"Custom Chart\", \"Price\", self.Securities[\"SPY\"].Open)\n"
   ]
  },
  {
   "cell_type": "code",
   "execution_count": null,
   "metadata": {},
   "outputs": [],
   "source": [
    "class LinePlot(QCAlgorithm):\n",
    "\n",
    "    def Initialize(self):\n",
    "        self.SetStartDate(2020, 1, 1)\n",
    "        self.SetCash(100000) \n",
    "        self.AddEquity(\"SPY\", Resolution.Daily)\n",
    "        \n",
    "        price_plot = Chart('Custom Chart')\n",
    "        price_plot.AddSeries(Series('Price', SeriesType.Line, 0))\n",
    "        self.AddChart(price_plot)  # Add the Chart to your environment\n",
    "\n",
    "\n",
    "    def OnData(self, data):\n",
    "      \n",
    "        if not self.Portfolio.Invested:\n",
    "            self.SetHoldings(\"SPY\", 1)\n",
    "        \n",
    "        # Pass chartname and seriesname to the plot function paired with the desired data, the opening price\n",
    "\n",
    "        self.Plot(\"Custom Chart\", \"Price\", self.Securities[\"SPY\"].Open)"
   ]
  },
  {
   "cell_type": "markdown",
   "metadata": {},
   "source": [
    "## ScatterPlot\n",
    "We can use the Scatter Plot to plot the opening Price on the first trading day of each month"
   ]
  },
  {
   "cell_type": "code",
   "execution_count": null,
   "metadata": {},
   "outputs": [],
   "source": [
    "class ScatterPlot(QCAlgorithm):\n",
    "\n",
    "    def Initialize(self):\n",
    "        self.SetStartDate(2020, 1, 1)\n",
    "        self.SetCash(100000) \n",
    "        self.AddEquity(\"TSLA\", Resolution.Daily)\n",
    "        \n",
    "        price_plot = Chart('Scatter Plot')\n",
    "        price_plot.AddSeries(Series('Price', SeriesType.Scatter, 0))\n",
    "        self.AddChart(price_plot)  # Add the Chart to your environment\n",
    "\n",
    "\n",
    "    def OnData(self, data):\n",
    "      \n",
    "        if not self.Portfolio.Invested:\n",
    "            self.SetHoldings(\"TSLA\", 1)\n",
    "        \n",
    "        # Pass chartname and seriesname to the plot function paired with the desired data, the opening price\n",
    "        # Plot the opening price on the first trading day of each month\n",
    "        if self.Time.day == 1:\n",
    "            self.Plot(\"Scatter Plot\", \"Price\", self.Securities[\"TSLA\"].Open)"
   ]
  },
  {
   "cell_type": "markdown",
   "metadata": {},
   "source": [
    "## Candle Plot\n",
    "Candle Plots are a great visualization tool for stock prices"
   ]
  },
  {
   "cell_type": "code",
   "execution_count": null,
   "metadata": {},
   "outputs": [],
   "source": [
    "class CandlePlot(QCAlgorithm):\n",
    "\n",
    "    def Initialize(self):\n",
    "        self.SetStartDate(2020, 1, 1)\n",
    "        self.SetCash(100000) \n",
    "        self.AddEquity(\"TSLA\", Resolution.Daily)\n",
    "        \n",
    "        price_plot = Chart('Candle Plot')\n",
    "        price_plot.AddSeries(Series('Price', SeriesType.Candle, 0))\n",
    "        self.AddChart(price_plot)  # Add the Chart to your environment\n",
    "\n",
    "\n",
    "    def OnData(self, data):\n",
    "      \n",
    "        if not self.Portfolio.Invested:\n",
    "            self.SetHoldings(\"TSLA\", 1)\n",
    "        \n",
    "        # Pass chartname and seriesname to the plot function paired with the desired data, the opening price\n",
    "        # Plot the opening price on each trading day as a Candle Plot\n",
    "        self.Plot(\"Candle Plot\", \"Price\", self.Securities[\"TSLA\"].Price)"
   ]
  },
  {
   "cell_type": "markdown",
   "metadata": {},
   "source": [
    "## Plot Combination\n",
    "We can combine multiple plots by adding multiple Series to the Chart.\n",
    "If you want to add an additional plot to the graph you can do this by changing the index (e.g from 0 to 1 in this example).\n",
    "This example demonstrates this by both plotting the Opening price on each first trading day of a month in the same plot and the Unrealized Profit in a different plot"
   ]
  },
  {
   "cell_type": "code",
   "execution_count": null,
   "metadata": {},
   "outputs": [],
   "source": [
    "class CandlePlot(QCAlgorithm):\n",
    "\n",
    "    def Initialize(self):\n",
    "        self.SetStartDate(2010, 1, 1)\n",
    "        self.SetCash(50000) \n",
    "        self.AddEquity(\"SPY\", Resolution.Daily)\n",
    "        \n",
    "        price_plot = Chart('Candle Plot')\n",
    "        price_plot.AddSeries(Series('Price', SeriesType.Candle, 0))\n",
    "        price_plot.AddSeries(Series('First Day of Month', SeriesType.Scatter, 0))  # will appear in same plot \n",
    "\n",
    "        self.AddChart(price_plot)  # Add the Chart to your environment\n",
    "\n",
    "\n",
    "    def OnData(self, data):\n",
    "      \n",
    "        if not self.Portfolio.Invested:\n",
    "            self.SetHoldings(\"SPY\", 1)\n",
    "        \n",
    "        # Pass chartname and seriesname to the plot function paired with the desired data, the opening price\n",
    "        # Plot the opening price on each trading day as a Candle Plot\n",
    "        self.Plot(\"Candle Plot\", \"Price\", self.Securities[\"SPY\"].Open)\n",
    "        \n",
    "        # Plot the opening price on the first trading day of each month\n",
    "        if self.Time.day == 1:\n",
    "            self.Plot(\"Candle Plot\", \"First Day of Month\", self.Securities[\"SPY\"].Open)\n",
    "        \n",
    " \n"
   ]
  },
  {
   "cell_type": "markdown",
   "metadata": {},
   "source": [
    "## Bar Plot\n",
    "Bar Plots are a great tool to visualize e.g how many shares you bought and sell of a particular stock.\n",
    "We will reuse the *MonthlyBuy* code from Basics lecture 3"
   ]
  },
  {
   "cell_type": "code",
   "execution_count": null,
   "metadata": {},
   "outputs": [],
   "source": [
    "class BarPlot(QCAlgorithm):\n",
    "\n",
    "    def Initialize(self):\n",
    "        \n",
    "        self.SetCash(100000)\n",
    "        self.SetStartDate(2013,1,1) \n",
    "        self.tesla = self.AddEquity(\"TSLA\", Resolution.Daily)\n",
    "        self.Schedule.On(self.DateRules.MonthStart(), self.TimeRules.At(9,30), self.Buy)\n",
    "        self.monthly_buy = 200\n",
    "        self.cash_reserve = 200  # Used to store our money\n",
    "        \n",
    "        stock_plot = Chart('Shares bought')\n",
    "        # Series accepts a string unit, which is used to indicate the unit of a given plot (standard is $)\n",
    "        # As we want to plot the number of shares we bought we do not need a unit.\n",
    "        stock_plot.AddSeries(Series('Num Shares', SeriesType.Bar, 0, unit=\" \"))\n",
    "        self.AddChart(stock_plot)  # Add the Chart to your environment\n",
    "\n",
    "    def Buy(self):\n",
    "        \"\"\"\n",
    "        Buy function which is called on the first trading day of each month\n",
    "        \"\"\"\n",
    "\n",
    "        # If we run out of money, dont buy anymore! End of investing\n",
    "        if self.Portfolio.Cash < self.tesla.Open:\n",
    "            self.Debug(\"Not enough money! Stop investing\")\n",
    "            return\n",
    "        \n",
    "        # If the stock price is larger than our cash_reserve,\n",
    "        # we increase our cash_reserve and dont buy anything this month\n",
    "        elif self.tesla.Open > self.cash_reserve:\n",
    "            self.cash_reserve += self.monthly_buy\n",
    "\n",
    "            self.Log(f\"Stock is too expensive ({self.tesla.Open} $), add {self.monthly_buy} $ to cash_reserve. \\\n",
    "                         Current amount: {self.cash_reserve} $\")\n",
    "            return\n",
    "        \n",
    "        # Calculate how many shares we can buy with the amount in our cash_reserve\n",
    "        shares_to_buy = int(self.cash_reserve / self.tesla.Open)\n",
    "        self.Log(f\"Buying {shares_to_buy} of {self.tesla.Symbol}. Remaining money: {self.Portfolio.Cash} $\")\n",
    "        self.MarketOrder(self.tesla.Symbol, shares_to_buy)\n",
    "        # Reset cash_reserve\n",
    "        self.cash_reserve = self.monthly_buy\n",
    "        \n",
    "        # Plot the number of shares bought this month by using a bar plot\n",
    "        self.Plot(\"Shares bought\", \"Num Shares\", shares_to_buy)\n"
   ]
  },
  {
   "cell_type": "markdown",
   "metadata": {},
   "source": [
    "##  Modify Plot properties\n",
    "You can also modify plot properties such as e.g color and scatter symbol (https://www.quantconnect.com/docs/algorithm-reference/charting#Charting-Custom-Colors-and-Scatter-Symbols).\n",
    "\n",
    "To do so you need to import **Color** from **System.Drawing** and then simply pass the desired Color as an argument to **Series(...)**<br />\n",
    "**Important: You need to pass the unit string (e.g '$') before the color, otherwise it does not work** "
   ]
  },
  {
   "cell_type": "code",
   "execution_count": null,
   "metadata": {},
   "outputs": [],
   "source": [
    "from System.Drawing import Color\n",
    "\n",
    "class LinePlotColor(QCAlgorithm):\n",
    "\n",
    "    def Initialize(self):\n",
    "        self.SetStartDate(2010, 1, 1)\n",
    "        self.SetCash(100000) \n",
    "        self.AddEquity(\"SPY\", Resolution.Daily)\n",
    "        \n",
    "        price_plot = Chart('Custom Chart')\n",
    "        price_plot.AddSeries(Series('Price', SeriesType.Line, \"$\", Color.Green, 0))\n",
    "        self.AddChart(price_plot)  # Add the Chart to your environment\n",
    "\n",
    "\n",
    "    def OnData(self, data):\n",
    "      \n",
    "        if not self.Portfolio.Invested:\n",
    "           self.SetHoldings(\"SPY\", 1)\n",
    "        \n",
    "        # Pass chartname and seriesname to the plot function paired with the desired data, the opening price\n",
    "\n",
    "        self.Plot(\"Custom Chart\", \"Price\", self.Securities[\"SPY\"].Open)"
   ]
  },
  {
   "cell_type": "markdown",
   "metadata": {},
   "source": [
    "The plotting API allows us to create extremely helpful custom plots, such as moving averages, etc..."
   ]
  }
 ],
 "metadata": {
  "kernelspec": {
   "display_name": "Python 3",
   "language": "python",
   "name": "python3"
  },
  "language_info": {
   "codemirror_mode": {
    "name": "ipython",
    "version": 3
   },
   "file_extension": ".py",
   "mimetype": "text/x-python",
   "name": "python",
   "nbconvert_exporter": "python",
   "pygments_lexer": "ipython3",
   "version": "3.8.3"
  }
 },
 "nbformat": 4,
 "nbformat_minor": 5
}
